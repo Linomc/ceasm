{
  "nbformat": 4,
  "nbformat_minor": 0,
  "metadata": {
    "colab": {
      "provenance": [],
      "authorship_tag": "ABX9TyMKJaEcY/rhJZlXGqW00MGH",
      "include_colab_link": true
    },
    "kernelspec": {
      "name": "python3",
      "display_name": "Python 3"
    },
    "language_info": {
      "name": "python"
    }
  },
  "cells": [
    {
      "cell_type": "markdown",
      "metadata": {
        "id": "view-in-github",
        "colab_type": "text"
      },
      "source": [
        "<a href=\"https://colab.research.google.com/github/Linomc/ceasm/blob/main/imagem_distorcoes_aula_estatistica.ipynb\" target=\"_parent\"><img src=\"https://colab.research.google.com/assets/colab-badge.svg\" alt=\"Open In Colab\"/></a>"
      ]
    },
    {
      "cell_type": "markdown",
      "source": [
        "# Resolvendo a questão da imagem com o gráfico da inflação distorcida."
      ],
      "metadata": {
        "id": "JSdVEvh3j_O9"
      }
    },
    {
      "cell_type": "markdown",
      "source": [
        "Entrada dos dado"
      ],
      "metadata": {
        "id": "qEOul9D6oHzb"
      }
    },
    {
      "cell_type": "code",
      "execution_count": 54,
      "metadata": {
        "colab": {
          "base_uri": "https://localhost:8080/"
        },
        "id": "vV8yLXQej257",
        "outputId": "92a1c1f5-e3fe-494f-f4df-16726bddf9fd"
      },
      "outputs": [
        {
          "output_type": "execute_result",
          "data": {
            "text/plain": [
              "[4.31, 5.92, 6.5, 5.84, 5.91]"
            ]
          },
          "metadata": {},
          "execution_count": 54
        }
      ],
      "source": [
        "brasil = {'serie':[2009,2010,2011,2012,2013],'inflacao':[4.31,5.92,6.5,5.84,5.91]}\n",
        "inflac = brasil['inflacao']\n"
      ]
    },
    {
      "cell_type": "code",
      "source": [
        "from operator import index\n",
        "import matplotlib.pyplot as plt\n",
        "from pandas import DataFrame\n",
        "from statistics import mean"
      ],
      "metadata": {
        "id": "xDatu1SooLVI"
      },
      "execution_count": 59,
      "outputs": []
    },
    {
      "cell_type": "code",
      "source": [
        "df = DataFrame(brasil,columns=['serie','inflacao'])\n",
        "media = round(mean(brasil['inflacao']),2)\n",
        "print (f'A média é {media}')\n",
        "fig, ax = plt.subplots()\n",
        "grafico = ax.bar(brasil['serie'],brasil['inflacao'])\n",
        "ax.bar_label(grafico, label_type='edge')\n",
        "ax.axhline(media, color= 'black')\n",
        "ax.set(xlabel='anos', ylabel='Inflação',title='Brasil')\n"
      ],
      "metadata": {
        "colab": {
          "base_uri": "https://localhost:8080/",
          "height": 507
        },
        "id": "Z-bEqZo7vIW6",
        "outputId": "211faf1d-908c-4fde-f028-d3b1aa287c2b"
      },
      "execution_count": 74,
      "outputs": [
        {
          "output_type": "stream",
          "name": "stdout",
          "text": [
            "A média é 5.7\n"
          ]
        },
        {
          "output_type": "execute_result",
          "data": {
            "text/plain": [
              "[Text(0.5, 0, 'anos'), Text(0, 0.5, 'Inflação'), Text(0.5, 1.0, 'Brasil')]"
            ]
          },
          "metadata": {},
          "execution_count": 74
        },
        {
          "output_type": "display_data",
          "data": {
            "text/plain": [
              "<Figure size 640x480 with 1 Axes>"
            ],
            "image/png": "[encoded data removed]"
          },
          "metadata": {}
        }
      ]
    },
    {
      "cell_type": "code",
      "source": [],
      "metadata": {
        "id": "h5qoxFnKAdVP"
      },
      "execution_count": null,
      "outputs": []
    }
  ]
}