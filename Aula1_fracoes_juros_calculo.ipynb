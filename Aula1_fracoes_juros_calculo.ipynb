{
  "nbformat": 4,
  "nbformat_minor": 0,
  "metadata": {
    "colab": {
      "provenance": [],
      "authorship_tag": "ABX9TyOiDjqWEtWyJm57B8c9Xj8Q",
      "include_colab_link": true
    },
    "kernelspec": {
      "name": "python3",
      "display_name": "Python 3"
    },
    "language_info": {
      "name": "python"
    }
  },
  "cells": [
    {
      "cell_type": "markdown",
      "metadata": {
        "id": "view-in-github",
        "colab_type": "text"
      },
      "source": [
        "<a href=\"https://colab.research.google.com/github/Linomc/ceasm/blob/main/Aula1_fracoes_juros_calculo.ipynb\" target=\"_parent\"><img src=\"https://colab.research.google.com/assets/colab-badge.svg\" alt=\"Open In Colab\"/></a>"
      ]
    },
    {
      "cell_type": "markdown",
      "source": [
        "# Aula 01\n",
        "\n",
        "### Vamos aprender para responder a seguinte questão\n",
        "\n",
        "1. Estava no mercado e vi um dos produtos que já ia levar e que naquele mommento estava em promoção (detalhe essa não é uma marca que costuma comprar, e mais cara e das vezes que levei não senti a diferença na qualidade que compensasse pagar mais para levar), dizia produto xxx 300ml preços:\n",
        "* original: R$12,00\n",
        "\n",
        "* promoção: R$9,00\n",
        "\n",
        "O produto que costumo levar estava assim, xxx 290ml, preço R$8,99\n",
        "\n",
        "Obs. um cliente vendo minha indecisão, puxou assunto... olha não sei te ajuda mas costumo tabelar os preços dos produtos que compro, e esse produto em promoção comprei a dois meses atrás, vou abrir a planilha aqui para você, e estava assim:"
      ],
      "metadata": {
        "id": "okBfIA41xkwG"
      }
    },
    {
      "cell_type": "code",
      "execution_count": null,
      "metadata": {
        "id": "W3UhMYnqxZ0X"
      },
      "outputs": [],
      "source": []
    },
    {
      "cell_type": "code",
      "source": [],
      "metadata": {
        "id": "uOBkKIh5xhvF"
      },
      "execution_count": null,
      "outputs": []
    }
  ]
}