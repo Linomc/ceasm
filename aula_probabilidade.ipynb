{
  "nbformat": 4,
  "nbformat_minor": 0,
  "metadata": {
    "colab": {
      "provenance": []
    },
    "kernelspec": {
      "name": "python3",
      "display_name": "Python 3"
    },
    "language_info": {
      "name": "python"
    }
  },
  "cells": [
    {
      "cell_type": "markdown",
      "source": [
        "# Aula 05\n",
        "\n",
        "Antes começar vamos rever o que lembramos sobre probabilidade"
      ],
      "metadata": {
        "id": "Gv4F3p8xN5t5"
      }
    },
    {
      "cell_type": "markdown",
      "source": [
        "Como podemos resolver esse problema.\n",
        "\n",
        "Três moedas são jogadas simultaneamente. Qual é a probabilidade de obter 2 caras? Qual é a probabilidade de obter pelo menos 2 caras?"
      ],
      "metadata": {
        "id": "_0MBvsEoPxVZ"
      }
    },
    {
      "cell_type": "code",
      "execution_count": 1,
      "metadata": {
        "id": "r_jzDt0RNsvN",
        "colab": {
          "base_uri": "https://localhost:8080/"
        },
        "outputId": "77acf296-672e-41e0-f5cb-8a54194cbf49"
      },
      "outputs": [
        {
          "output_type": "stream",
          "name": "stdout",
          "text": [
            "A probabilidade de se obter duas moedas com cara é 0.38.\n"
          ]
        }
      ],
      "source": [
        "X = 8\n",
        "doiscaras = 3\n",
        "print (f'A probabilidade de se obter duas moedas com cara é {round(doiscaras/X,2)}.')"
      ]
    },
    {
      "cell_type": "code",
      "source": [
        "X = 8\n",
        "mindoiscaras = 4\n",
        "print (f'A probabilidade de se obter no mínimo duas moedas com cara é {round(mindoiscaras/X,2)}.')"
      ],
      "metadata": {
        "id": "Zwa71DOFRdat",
        "colab": {
          "base_uri": "https://localhost:8080/"
        },
        "outputId": "2f423ea4-350b-4a87-f737-173e54ae62be"
      },
      "execution_count": 2,
      "outputs": [
        {
          "output_type": "stream",
          "name": "stdout",
          "text": [
            "A probabilidade de se obter no mínimo duas moedas com cara é 0.5.\n"
          ]
        }
      ]
    },
    {
      "cell_type": "markdown",
      "source": [
        "### Ensaio filosófico sobre probabilidades - Pierre Simon Laplace\n",
        "\n",
        "'A teoria do azar consiste em reduzir todos os acontecimentos do mesmo gênero a um certo número de casos igualmente possíveis, ou seja, tais que estejamos igualmente inseguros sobre sua existência, e em determinar o número de casos favoráveis ao acontecimento cuja a probabilidade é buscada. A razão deste número para o de todos os casos possíveis é a medida de probabilidade, a qual é portanto uma fração cujo numerador é o número de casos favoráveis e o denominador é o número de todos os casos possíveis.'"
      ],
      "metadata": {
        "id": "oiex1f9wR20B"
      }
    },
    {
      "cell_type": "markdown",
      "source": [
        "Fazendo referência ao texto acima:\n",
        "\n",
        "o denominador é o espaço amostral e o mesmo é finito, no caso particular que estamos desenvolvendo hoje.\n",
        "\n",
        "$# Ω = n ϵ N$\n",
        "\n",
        "O numerador é o evento onde se calcula a probabilidade de acontecer.\n",
        "\n",
        "$#A = x $\n",
        "\n",
        "probabilidade de A = $P(A)=\\frac{nº de casos favoráveis}{nº de casos possíveis}$\n",
        "\n",
        "---"
      ],
      "metadata": {
        "id": "ib-4Bt4NTpaN"
      }
    },
    {
      "cell_type": "markdown",
      "source": [
        "#### Algumas Propriedades\n",
        "\n",
        "Sendo o Modelo probabilístico um modelo teórico para as frequência relativas ($\\frac{casos.favoráveis}{todos.possíveis}$) de suas propriedades podemos obter algumas das propriedades das probabilidades, que estudaremos a seguir:\n",
        "\n",
        "* Como a frequência relativa é um número entre 0 e 1, temos que\n",
        "\n",
        "  * 0 < P(A) < 1\n",
        "\n",
        "  Para qualquer evento **A**. Será importante ter consciência e considerar todos os casos possíveis $Ω$ (que é o todo) e o vazio $∅$ sem casos possíveis.\n",
        "\n",
        "  * P($Ω$)=1, P($∅$)=0."
      ],
      "metadata": {
        "id": "6xxMxlZnIFm8"
      }
    },
    {
      "cell_type": "markdown",
      "source": [
        "### Vamos falar sobre a combinação de eventos:\n",
        "\n",
        "1. União de dois eventos:\n",
        "\n",
        "  * Sejam A e B dois eventos; então AUB será também um evento que ocorrerá se, e somente se, A e B (ou ambos) ocorrerem. Dizemos que AUB é a união entre o evento A e o evento B.\n",
        "  \n",
        "    a. P($A∪B$) = P(A) + P(B) = $\\frac{possiveis-A}{todos} + \\frac{possiveis-B}{todos}$\n",
        "    \n",
        "    obs. nesse modelo **_a_** contamos duas vezes quando **existir** os casos possíveis que estão em A e B.\n",
        "\n",
        "    b. P($A∪B$) = P(A) + P(B) - P(A$∩$B) = $\\frac{possiveis-A}{todos} + \\frac{possiveis-B}{todos} - \\frac{interseção-AB}{todos}$\n",
        "    \n",
        "    obs. no modelo **_b_**, o contar duas vezes foi sanado pois retiramos os casos que são interseções nos dois eventos.\n",
        "\n",
        "2. Interseção entre dois eventos:\n",
        "\n",
        "  * Sejam A e B dois eventos; então A$⋂$B será também um evento que ocorrerá se, e somente se, A e B ocorrerem simultaneamente. Dizemos que A$⋂$B é a interseção entre o evento A e o evento B.\n",
        "  Em particular, se A$⋂$B=$∅$, A e B são chamados de mutuamente exclusivos.\n",
        "\n",
        "3. Complemento de um evento:\n",
        "\n",
        "  * Seja A um evento; então $A^c$ será também um evento que ocorrerá se, e somente se, A não ocorrer. Dizemos que $A^c$ é o evento complementar de A."
      ],
      "metadata": {
        "id": "ZgMbMMGoYgQM"
      }
    }
  ]
}
