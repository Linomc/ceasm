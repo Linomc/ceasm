{
  "nbformat": 4,
  "nbformat_minor": 0,
  "metadata": {
    "colab": {
      "provenance": [],
      "authorship_tag": "ABX9TyONQgnddaVtQaC1jwU/Oie1",
      "include_colab_link": true
    },
    "kernelspec": {
      "name": "python3",
      "display_name": "Python 3"
    },
    "language_info": {
      "name": "python"
    }
  },
  "cells": [
    {
      "cell_type": "markdown",
      "metadata": {
        "id": "view-in-github",
        "colab_type": "text"
      },
      "source": [
        "<a href=\"https://colab.research.google.com/github/Linomc/ceasm/blob/main/Aula1_razao_proporcao_porcentagem.ipynb\" target=\"_parent\"><img src=\"https://colab.research.google.com/assets/colab-badge.svg\" alt=\"Open In Colab\"/></a>"
      ]
    },
    {
      "cell_type": "markdown",
      "source": [
        "# Aula 01\n",
        "\n",
        "### Vamos aprender para responder a seguinte questão\n",
        "\n",
        "1. Estava no mercado, data 10/02, e vi um dos produtos que já ia levar e que naquele mommento estava em promoção (detalhe essa não é uma marca que costuma comprar, e mais cara e das vezes que levei não senti a diferença na qualidade que compensasse pagar mais para levar), dizia produto xxx 150.0ml preços:\n",
        "* original: R$12,00\n",
        "\n",
        "* promoção: R$9,00\n",
        "\n",
        "O produto kkk é o que costumo levar, o preço hoje é de R$7,92, pesa 100.0ml, e dá para uma semana, logo preciso levar quatro para o mês.\n",
        "\n",
        "Obs. um cliente vendo minha indecisão, puxou assunto... olha não sei se te ajuda mas costumo tabelar os preços dos produtos que compro, e esse produto em promoção comprei a dois meses atrás, vou abrir a planilha aqui para você, e estava assim:\n",
        "\n",
        "\n",
        "|     Descrição     | data |valor(R$)|observação|\n",
        "|-------------------|------|---------|----------|\n",
        "| produto xxx 150ml |14/12 |   8,90  | promoção |\n",
        "\n",
        "\n",
        "* 1.1 Como podemos escolher qual produto levar com base nos preços? Qual a razão de valor e de peso do produto kkk pelo produto xxx?\n",
        "* 1.2 Como podemos escolher qual produto levar com base no nosso consumo?"
      ],
      "metadata": {
        "id": "okBfIA41xkwG"
      }
    },
    {
      "cell_type": "markdown",
      "source": [
        "### Vamos aquecer, que tal? Vamos verificar o que lembra e como você aplica, clique no link abaixo:\n",
        "\n",
        "[aula01- razão, proporção e porcentagem - parte 01](https://docs.google.com/forms/d/e/1FAIpQLSdrVv-Qa1vHzEwZNMuR5WuWK3V4El2LPVJgU1HN1395VIghQw/viewform)"
      ],
      "metadata": {
        "id": "Pu0MoizZpEY0"
      }
    },
    {
      "cell_type": "markdown",
      "source": [
        "### Qual produto levar com base nos preços atuais."
      ],
      "metadata": {
        "id": "0jvdK9C4luXq"
      }
    },
    {
      "cell_type": "code",
      "execution_count": 24,
      "metadata": {
        "id": "W3UhMYnqxZ0X",
        "colab": {
          "base_uri": "https://localhost:8080/"
        },
        "outputId": "bb2120b6-8718-4309-ff80-29bf615599b0"
      },
      "outputs": [
        {
          "output_type": "stream",
          "name": "stdout",
          "text": [
            "O valor de R$0.06/ml é do produto xxx.\n",
            "O valor de R$0.072/ml é do produto kkk.\n",
            "-----------------\n",
            "Preciso em média de 440ml/mês.\n",
            "-----------------\n",
            "O produto xxx é mais barato.\n",
            "-----------------\n",
            "Interpretação dos resultados, se menor que 1 o produto kkkk é menor que o produto xxx, se maior que 1 é o contrário.\n",
            "peso 0.9777777777777777\n",
            "valor 1.1733333333333333\n"
          ]
        }
      ],
      "source": [
        "valor_produto_xxx = 9\n",
        "peso_produto_xxx = 150\n",
        "valor_produto_kkk = 7.92\n",
        "peso_produto_kkk = 110\n",
        "# cálculos da menor fração:\n",
        "valor_ml_produto_xxx = valor_produto_xxx/peso_produto_xxx\n",
        "valor_ml_produto_kkk = valor_produto_kkk/peso_produto_kkk\n",
        "print (f'O valor de R${valor_ml_produto_xxx}/ml é do produto xxx.')\n",
        "print (f'O valor de R${valor_ml_produto_kkk}/ml é do produto kkk.')\n",
        "print ('-----------------')\n",
        "# Cálculo da quantidade em ml por mês\n",
        "ml_mes = peso_produto_kkk*4\n",
        "print (f'Preciso em média de {ml_mes}ml/mês.')\n",
        "print ('-----------------')\n",
        "# Escolhendo o produto com base no menor custo\n",
        "from math import ceil\n",
        "from sympy import simplify, expand, factor\n",
        "# Verificando se produto xxx é menor que produto kkk\n",
        "if valor_produto_xxx*(ceil(ml_mes/peso_produto_xxx)) < valor_produto_kkk*(ceil(ml_mes/peso_produto_kkk)):\n",
        "  print (f'O produto xxx é mais barato.')\n",
        "# Se o produto xxx não é mais barato então será o produto kkk, não é necessário conta.\n",
        "else:\n",
        "  print (f'O produto kkk é mais barato')\n",
        "# Razão dos produtos para um mês:\n",
        "print ('-----------------')\n",
        "print ('Interpretação dos resultados, se menor que 1 o produto kkkk é menor que o produto xxx, se maior que 1 é o contrário.')\n",
        "print ('peso', (peso_produto_kkk*4)/(peso_produto_xxx*3))\n",
        "print ('valor', (valor_produto_kkk*4)/(valor_produto_xxx*3))"
      ]
    },
    {
      "cell_type": "markdown",
      "source": [
        "## Conceito de fração como razão e conceito de razão"
      ],
      "metadata": {
        "id": "I2JGN2rHlnbv"
      }
    },
    {
      "cell_type": "code",
      "source": [],
      "metadata": {
        "id": "uOBkKIh5xhvF"
      },
      "execution_count": null,
      "outputs": []
    }
  ]
}