{
  "nbformat": 4,
  "nbformat_minor": 0,
  "metadata": {
    "colab": {
      "provenance": [],
      "authorship_tag": "ABX9TyNTRqgJLGlr+HJPEKuu8NB1",
      "include_colab_link": true
    },
    "kernelspec": {
      "name": "python3",
      "display_name": "Python 3"
    },
    "language_info": {
      "name": "python"
    }
  },
  "cells": [
    {
      "cell_type": "markdown",
      "metadata": {
        "id": "view-in-github",
        "colab_type": "text"
      },
      "source": [
        "<a href=\"https://colab.research.google.com/github/Linomc/ceasm/blob/main/Aula_Avaliacao.ipynb\" target=\"_parent\"><img src=\"https://colab.research.google.com/assets/colab-badge.svg\" alt=\"Open In Colab\"/></a>"
      ]
    },
    {
      "cell_type": "markdown",
      "source": [
        "# Aula de avaliação dos temas desenvolvidos"
      ],
      "metadata": {
        "id": "mejGYe0Eh1tx"
      }
    },
    {
      "cell_type": "markdown",
      "source": [
        "## O que faremos hoje, aula 04\n",
        "\n",
        "* A Qualificação 01 da UERJ tá chegando certo? Vamos treinar? Esse é um bom momento já que concluímos o conjunto de temas que são necessários para o próximo tema. Vamos verificar por meio de algumas questões que retirei de provas antigas da UERJ? Basta clicar na imagem do formulário\n",
        "\n",
        "  [![avaliacao 1](https://upload.wikimedia.org/wikipedia/commons/thumb/5/5b/Google_Forms_2020_Logo.svg/174px-Google_Forms_2020_Logo.svg.png)](https://docs.google.com/forms/d/e/1FAIpQLScDcnKSjwsr12q1zR5yKQY-xGY61vHaxpkTpyfQExLfvPMr0w/viewform)"
      ],
      "metadata": {
        "id": "Au9-B7Bth8Ho"
      }
    },
    {
      "cell_type": "code",
      "execution_count": null,
      "metadata": {
        "id": "bqU_yCO3hozg"
      },
      "outputs": [],
      "source": []
    }
  ]
}