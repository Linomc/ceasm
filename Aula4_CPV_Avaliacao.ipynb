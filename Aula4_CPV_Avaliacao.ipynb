{
  "nbformat": 4,
  "nbformat_minor": 0,
  "metadata": {
    "colab": {
      "provenance": [],
      "authorship_tag": "ABX9TyOR0g/q1/TyqhqXisyXeA4d",
      "include_colab_link": true
    },
    "kernelspec": {
      "name": "python3",
      "display_name": "Python 3"
    },
    "language_info": {
      "name": "python"
    }
  },
  "cells": [
    {
      "cell_type": "markdown",
      "metadata": {
        "id": "view-in-github",
        "colab_type": "text"
      },
      "source": [
        "<a href=\"https://colab.research.google.com/github/Linomc/ceasm/blob/main/Aula4_CPV_Avaliacao.ipynb\" target=\"_parent\"><img src=\"https://colab.research.google.com/assets/colab-badge.svg\" alt=\"Open In Colab\"/></a>"
      ]
    },
    {
      "cell_type": "markdown",
      "source": [
        "# Aula 04"
      ],
      "metadata": {
        "id": "mejGYe0Eh1tx"
      }
    },
    {
      "cell_type": "markdown",
      "source": [
        "## O que faremos hoje, aula 04\n",
        "\n",
        "* A Qualificação 01 da UERJ tá chegando, e precisamos treinar. Esse é um bom momento já que concluímos o conjunto de temas que são necessários para o próximo tema. Vamos verificar por meio de algumas questões que retirei de provas antigas da UERJ?\n",
        "\n",
        "link: [avaliacao 1](https://docs.google.com/forms/d/e/1FAIpQLScDcnKSjwsr12q1zR5yKQY-xGY61vHaxpkTpyfQExLfvPMr0w/viewform)"
      ],
      "metadata": {
        "id": "Au9-B7Bth8Ho"
      }
    },
    {
      "cell_type": "code",
      "execution_count": null,
      "metadata": {
        "id": "bqU_yCO3hozg"
      },
      "outputs": [],
      "source": []
    }
  ]
}