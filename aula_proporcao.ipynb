{
  "nbformat": 4,
  "nbformat_minor": 0,
  "metadata": {
    "colab": {
      "provenance": [],
      "authorship_tag": "ABX9TyNnC5bTr4wZV+CaWmN5UuSy",
      "include_colab_link": true
    },
    "kernelspec": {
      "name": "python3",
      "display_name": "Python 3"
    },
    "language_info": {
      "name": "python"
    }
  },
  "cells": [
    {
      "cell_type": "markdown",
      "metadata": {
        "id": "view-in-github",
        "colab_type": "text"
      },
      "source": [
        "<a href=\"https://colab.research.google.com/github/Linomc/ceasm/blob/main/aula_proporcao.ipynb\" target=\"_parent\"><img src=\"https://colab.research.google.com/assets/colab-badge.svg\" alt=\"Open In Colab\"/></a>"
      ]
    },
    {
      "cell_type": "markdown",
      "source": [
        "# AULA 03"
      ],
      "metadata": {
        "id": "qMJBgQjAJXdK"
      }
    },
    {
      "cell_type": "markdown",
      "source": [
        "### Antes começar vamos treinar um pouco\n",
        "\n",
        "link: <a href=\"https://forms.gle/Z6qnki9q6rXH8D9XA\" target=\"_blank\">treino_aula_03</a>\n",
        "\n",
        "vamos combinar 10 minutos no máximo, para resolver, tudo bem?"
      ],
      "metadata": {
        "id": "zDWW2yDa0S7I"
      }
    },
    {
      "cell_type": "markdown",
      "source": [
        "### PROPORCIONALIDADE:\n",
        "\n",
        "* Explora determinados padrões geométricos, numéricos ou algébricos pode evidenciar constantes de proporcionalidade.\n",
        "  \n",
        "  * Vocês podem dar exemplos?\n",
        "\n",
        "* O Conceito de proporcionalidade como regularidades, função, razão e escalas.\n"
      ],
      "metadata": {
        "id": "by1-lFBAJh5e"
      }
    },
    {
      "cell_type": "markdown",
      "source": [
        "### Problema - Qualificação 01 de 2018 - UERJ\n",
        "\n",
        "#### Onça e libra são unidades de massa do sistema inglês. Sabe-se que 16 onças equivalem a 1 libra e que 0,4 onças é igual a x libras. Qual o valor de x libras?"
      ],
      "metadata": {
        "id": "e--5coohTNM6"
      }
    },
    {
      "cell_type": "markdown",
      "source": [
        "### Conceito de Proporção:\n",
        "\n",
        "Consideremos a proporção $\\frac{a}{b}=\\frac{c}{d}$, com **b** e **d** diferentes de zero. Vale a seguinte propriedade que vimos da aula 2:\n",
        "\n",
        "* $\\frac{a}{b}=\\frac{c}{d}$, então $a*d=c*b$; **em toda proporção, o produto dos extremos é igual ao produto dos meios.** Em outras palavras os produtos são cruzados $a*d$ e $c*b$."
      ],
      "metadata": {
        "id": "hWADLpN_Z2xV"
      }
    },
    {
      "cell_type": "markdown",
      "source": [
        "Segue a solução.\n",
        "\n",
        "montagem: $\\frac{16}{1} = \\frac{0,4}{x}$"
      ],
      "metadata": {
        "id": "8jpVCjWNcSjA"
      }
    },
    {
      "cell_type": "code",
      "source": [
        "# Resolução da questão da UERJ\n",
        "# x = ?\n",
        "# 1 libra = 1,6 onças\n",
        "libra = 1\n",
        "onca = 16\n",
        "fracao_onca = 0.4\n",
        "\n",
        "#cálculo\n",
        "\n",
        "x = fracao_onca/onca\n",
        "\n",
        "print (f'O valor de x é {x} libras.')"
      ],
      "metadata": {
        "id": "0zQws-TBZjhk",
        "colab": {
          "base_uri": "https://localhost:8080/"
        },
        "outputId": "02453869-08f8-40ad-8a77-9c68703bf192"
      },
      "execution_count": 1,
      "outputs": [
        {
          "output_type": "stream",
          "name": "stdout",
          "text": [
            "O valor de x é 0.025 libras.\n"
          ]
        }
      ]
    },
    {
      "cell_type": "markdown",
      "source": [
        "### Problema 02\n",
        "\n",
        "Pedro gasta $\\frac{1}{5}$ do salário c/ a prestação do celular, $\\frac{1}{8}$ do salário com alimentação e ainda lhe sobram 2430 reais. Qual o salário do Pedro? obs. indique salário pela variável **s**."
      ],
      "metadata": {
        "id": "stm4dpeYfDWS"
      }
    },
    {
      "cell_type": "code",
      "execution_count": null,
      "metadata": {
        "id": "PWRdRawAJL4Y"
      },
      "outputs": [],
      "source": [
        "celular = 1/5\n",
        "alimentacao = 1/8\n",
        "sobra = 215\n",
        "\n",
        "s = round(sobra/(1 - celular - alimentacao),2)\n",
        "print (s)"
      ]
    },
    {
      "cell_type": "markdown",
      "source": [
        "## Grandezas diretamente proporcionais\n",
        "\n",
        "Duas grandezas são **diretamente proporcionais** quando a razão entre a medida **m** de uma e a correspondente **c** da outra ($x\\not=0$) for constante e diferente de zero, isto é, $\\frac{m}{c}=k$, em que k é uma constante é uma constante diferente de zero. A razão (o conceito de razão aprendemos na aula 01) entre cada valor de *c* e seu correspondente *m* também é constante e vale $\\frac{1}{k}$"
      ],
      "metadata": {
        "id": "yWATYl5qhvvj"
      }
    },
    {
      "cell_type": "markdown",
      "source": [
        "## Grandezas inversamente proporcionais\n",
        "\n",
        "Duas grandezas são **inversamente proporcionais** quando o produto de medida **m** de uma e a correspondente **c** da outra for constante e diferente de zero, isto é, $m * c = k$ é uma constante diferente de zero."
      ],
      "metadata": {
        "id": "OfZefrLCl3Py"
      }
    },
    {
      "cell_type": "markdown",
      "source": [
        "### Problema\n",
        "\n",
        "Três sócios Alex (A), Bernardo (B) e Carla (C) resolveram abrir uma pizzaria. O primeiro insvestiu 30 mil reais, o segundo investiu 40 mil reais e a terceira 50 mil reais. Passado 1 ano de funcionamento a pizzaria deu lucro de 36 mil reais. Quanto cada sócio receberá de forma proporcional ao valor investido?  "
      ],
      "metadata": {
        "id": "PChyT_uBr_3c"
      }
    },
    {
      "cell_type": "code",
      "source": [
        "a= 30\n",
        "b= 40\n",
        "c= 50\n",
        "\n",
        "proporcao = 36/(a+b+c)\n",
        "\n",
        "print (f'Alex receberá R${a*proporcao}000,00')\n",
        "print (f'Bernardo receberá R${b*proporcao}000,00')\n",
        "print (f'Carla receberá R${c*proporcao}000,00')"
      ],
      "metadata": {
        "id": "a4hXt6ZitiHy",
        "colab": {
          "base_uri": "https://localhost:8080/"
        },
        "outputId": "f768fd9a-d203-4550-f2fc-4105525d270a"
      },
      "execution_count": 2,
      "outputs": [
        {
          "output_type": "stream",
          "name": "stdout",
          "text": [
            "Alex receberá R$9.0000,00\n",
            "Bernardo receberá R$12.0000,00\n",
            "Carla receberá R$15.0000,00\n"
          ]
        }
      ]
    }
  ]
}