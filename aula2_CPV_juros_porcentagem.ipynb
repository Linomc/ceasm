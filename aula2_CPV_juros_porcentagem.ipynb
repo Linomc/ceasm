{
  "nbformat": 4,
  "nbformat_minor": 0,
  "metadata": {
    "colab": {
      "provenance": [],
      "authorship_tag": "ABX9TyOgPWQ3rD7v3nl23N9Qxowk",
      "include_colab_link": true
    },
    "kernelspec": {
      "name": "python3",
      "display_name": "Python 3"
    },
    "language_info": {
      "name": "python"
    }
  },
  "cells": [
    {
      "cell_type": "markdown",
      "metadata": {
        "id": "view-in-github",
        "colab_type": "text"
      },
      "source": [
        "<a href=\"https://colab.research.google.com/github/Linomc/ceasm/blob/main/aula2_CPV_juros_porcentagem.ipynb\" target=\"_parent\"><img src=\"https://colab.research.google.com/assets/colab-badge.svg\" alt=\"Open In Colab\"/></a>"
      ]
    },
    {
      "cell_type": "markdown",
      "source": [
        "# AULA 02"
      ],
      "metadata": {
        "id": "bkc6uL_JP96f"
      }
    },
    {
      "cell_type": "markdown",
      "source": [
        "## Antes Começar:\n",
        "\n",
        "Temos pouco tempo de aula e um vasto conteúdo que precisa ser repassado ou mesmo apresentado pela primeira vez na pior das hipóteses, concordam?\n",
        "- Caso tenham dúvida do conteúdo (tem no material da primeira aula) é:\n",
        "1.  ~razão~,\n",
        "2.  proporção,\n",
        "3.  porcentagem,\n",
        "4.  medidas,\n",
        "5.  operações,\n",
        "6.  sequência,\n",
        "7.  matemática financeira,\n",
        "8.  tabelas,\n",
        "9.  gráficos,\n",
        "10. estatística,\n",
        "11. probabilidade,\n",
        "12. análise combinatória,\n",
        "13. equações,\n",
        "14. funções,\n",
        "15. logaritmos,\n",
        "\n",
        "- **A primeira prova é a Qualificação 01 da UERJ. A prova acontecerá no dia 09/06 temos até lá no melhor dos cenários 7 horas e 1/2 horas de aula, ou essa aula que estou dando e mais 7 aulas de 50 minutos e uma última aula na sexta-feira que antecede a prova**.\n",
        "\n",
        "O que vocês sugerem para o sucesso de vocês?\n",
        "Mas antes de responder a pergunta de cima, quero perguntar algo que antecede. O que é sucesso para vocês?\n"
      ],
      "metadata": {
        "id": "wG5tCUWQQC5T"
      }
    },
    {
      "cell_type": "markdown",
      "source": [
        "#### Hoje falaremos de:\n",
        "\n",
        "1. Porcentagem\n",
        "2. Juros\n",
        "3. Gráficos"
      ],
      "metadata": {
        "id": "7DJnaO4GQM13"
      }
    },
    {
      "cell_type": "markdown",
      "source": [
        "* Quais as situações em que se paga juros? Exemplifique\n",
        "* O que voces entendem por juros?\n",
        "* O que vocês entendem por juros simples?\n",
        "* Quem pode citar um exemplo do a dia em que calculamos os juros simples?"
      ],
      "metadata": {
        "id": "kJh_Co0caf2X"
      }
    },
    {
      "cell_type": "code",
      "source": [],
      "metadata": {
        "id": "FLKSHaL9iOkc"
      },
      "execution_count": null,
      "outputs": []
    },
    {
      "cell_type": "markdown",
      "source": [
        "### vamos falar sobre juros e porcentagem.\n",
        "\n",
        "Mas antes de falar do conceito, que tal resolvermos esse problema.\n",
        "\n",
        "fontes:\n",
        "1. [blog rendimento nubank](https://blog.nubank.com.br/rendimento-conta-nubank-melhor-poupanca/)\n",
        "2. [blog nubank CDI 2024](https://blog.nubank.com.br/cdi-2024/)\n",
        "\n",
        "__PROBLEMA AQUECIMENTO:__ Luiza olhou no aplicativo do banco seu saldo. Em sua última consulta, tinha R$3.400,00.\n",
        "- Agora vamos as movimentações, que ocorreram ao longo do mês de janeiro de 2024:\n",
        "  * ela depositou 423 reais.\n",
        "  * A Luiza pagou algumas contas e compras no débito que totalizaram 723 reais.\n",
        "\n",
        "Perguntas:\n",
        "\n",
        "- Qual será o saldo da Luiza logo após as movimentações descritas acima (em janeiro 2024).\n",
        "- em fevereiro após 30 dias depois da última movimentação, que são as descritas acima a Luiza deseja saber seu saldo, qual é seu saldo?\n",
        "  * Dados: o banco que a Luiza tem conta, tem a seguinte definição (conforme fonte (1)), o rendimento da conta é 100% do CDI¹, que no mês de janeiro (conforme fonte (2)) foi de 0,97%.\n",
        "\n",
        "¹ CDI - Certificado de Depósito Interbancário - o dinheiro que os banco emprestam entre eles mesmos."
      ],
      "metadata": {
        "id": "gwaCPpBOeq1d"
      }
    },
    {
      "cell_type": "markdown",
      "source": [
        "### Conceito:\n"
      ],
      "metadata": {
        "id": "zV0-cL01pE_W"
      }
    },
    {
      "cell_type": "markdown",
      "source": [
        "Solução:"
      ],
      "metadata": {
        "id": "9h6NzDswzY4G"
      }
    },
    {
      "cell_type": "code",
      "execution_count": 2,
      "metadata": {
        "id": "gkkjDUsUP81o",
        "colab": {
          "base_uri": "https://localhost:8080/"
        },
        "outputId": "06b67674-c414-491b-f297-7516dc53ef65"
      },
      "outputs": [
        {
          "output_type": "stream",
          "name": "stdout",
          "text": [
            "O saldo após as movimentações é R$2254\n"
          ]
        }
      ],
      "source": [
        "capital_inicial = 3400\n",
        "deposito = 423\n",
        "debitos = 723\n",
        "saldo = capital_inicial - (deposito + debitos)\n",
        "print (f'O saldo após as movimentações é R${saldo}')"
      ]
    },
    {
      "cell_type": "markdown",
      "source": [
        "Antes de solucionar a segunda parte. Vamos avaliar\n",
        "\n",
        "* rendimento tem a ver com acrescimento, concordam?"
      ],
      "metadata": {
        "id": "9Bh3qyyDzlvR"
      }
    },
    {
      "cell_type": "code",
      "source": [
        "rendimento_janeiro = 0.97/100\n",
        "print (f'A taxa em decimal é {rendimento_janeiro}')\n",
        "# Vamos a solução\n",
        "saldo_fevereiro = round(saldo*(1+rendimento_janeiro),2)\n",
        "rendeu= round(saldo_fevereiro - saldo,2)\n",
        "print('--------------')\n",
        "print(f'saldo logo após as movimentações foi de R${saldo}.')\n",
        "print (f'O saldo em fevereiro após 30 dias sem mexer é R${saldo_fevereiro}.')\n",
        "print(f'O renda que se ganhou por deixar o dinheiro parado por 30 dias foi de R${rendeu}')"
      ],
      "metadata": {
        "colab": {
          "base_uri": "https://localhost:8080/"
        },
        "id": "qdLyuG_8zXKp",
        "outputId": "7c4ecdfc-94cd-4a72-f724-da6f4344e563"
      },
      "execution_count": 8,
      "outputs": [
        {
          "output_type": "stream",
          "name": "stdout",
          "text": [
            "A taxa em decimal é 0.0097\n",
            "--------------\n",
            "saldo logo após as movimentações foi de R$2254.\n",
            "O saldo em fevereiro após 30 dias sem mexer é R$2275.86.\n",
            "O renda que se ganhou por deixar o dinheiro parado por 30 dias foi de R$21.86\n"
          ]
        }
      ]
    },
    {
      "cell_type": "markdown",
      "source": [
        "#obrigado!"
      ],
      "metadata": {
        "id": "NGT7sOSO1oj3"
      }
    }
  ]
}