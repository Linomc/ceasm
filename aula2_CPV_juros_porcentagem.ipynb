{
  "nbformat": 4,
  "nbformat_minor": 0,
  "metadata": {
    "colab": {
      "provenance": [],
      "authorship_tag": "ABX9TyOBiK/kJt5O6+DfqqUq/e0H",
      "include_colab_link": true
    },
    "kernelspec": {
      "name": "python3",
      "display_name": "Python 3"
    },
    "language_info": {
      "name": "python"
    }
  },
  "cells": [
    {
      "cell_type": "markdown",
      "metadata": {
        "id": "view-in-github",
        "colab_type": "text"
      },
      "source": [
        "<a href=\"https://colab.research.google.com/github/Linomc/ceasm/blob/main/aula2_CPV_juros_porcentagem.ipynb\" target=\"_parent\"><img src=\"https://colab.research.google.com/assets/colab-badge.svg\" alt=\"Open In Colab\"/></a>"
      ]
    },
    {
      "cell_type": "markdown",
      "source": [
        "# AULA 02"
      ],
      "metadata": {
        "id": "bkc6uL_JP96f"
      }
    },
    {
      "cell_type": "markdown",
      "source": [
        "## Antes Começar:\n",
        "\n",
        "Temos pouco tempo de aula e um vasto conteúdo que precisa ser repassado ou mesmo apresentado pela primeira vez na pior das hipóteses, concordam?\n",
        "- Caso tenham dúvida do conteúdo (tem no material da primeira aula) é:\n",
        "1.  ~razão~,\n",
        "2.  proporção,\n",
        "3.  porcentagem,\n",
        "4.  medidas,\n",
        "5.  operações,\n",
        "6.  sequência,\n",
        "7.  matemática financeira,\n",
        "8.  tabelas,\n",
        "9.  gráficos,\n",
        "10. estatística,\n",
        "11. probabilidade,\n",
        "12. análise combinatória,\n",
        "13. equações,\n",
        "14. funções,\n",
        "15. logaritmos,\n",
        "\n",
        "- **A primeira prova é a Qualificação 01 da UERJ. A prova acontecerá no dia 09/06 temos até lá no melhor dos cenários 7 horas e 1/2 horas de aula, ou essa aula que estou dando e mais 7 aulas de 50 minutos e uma última aula na sexta-feira que antecede a prova**.\n",
        "\n",
        "O que vocês sugerem para o sucesso de vocês?\n",
        "Mas antes de responder a pergunta de cima, quero perguntar algo que antecede. O que é sucesso para vocês?\n"
      ],
      "metadata": {
        "id": "wG5tCUWQQC5T"
      }
    },
    {
      "cell_type": "markdown",
      "source": [
        "#### Hoje falaremos de:\n",
        "\n",
        "1. Porcentagem\n",
        "2. Juros\n",
        "3. Gráficos"
      ],
      "metadata": {
        "id": "7DJnaO4GQM13"
      }
    },
    {
      "cell_type": "code",
      "execution_count": null,
      "metadata": {
        "id": "gkkjDUsUP81o"
      },
      "outputs": [],
      "source": []
    }
  ]
}